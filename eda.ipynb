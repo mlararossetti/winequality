{
 "cells": [
  {
   "cell_type": "code",
   "execution_count": 1,
   "metadata": {},
   "outputs": [],
   "source": [
    "#Libraries\n",
    "import numpy as np\n",
    "import pandas as pd"
   ]
  },
  {
   "cell_type": "code",
   "execution_count": null,
   "metadata": {},
   "outputs": [
    {
     "name": "stdout",
     "output_type": "stream",
     "text": [
      "    type  fixed acidity  volatile acidity  citric acid  residual sugar  \\\n",
      "0  white            7.0              0.27         0.36            20.7   \n",
      "1  white            6.3              0.30         0.34             1.6   \n",
      "2  white            8.1              0.28         0.40             6.9   \n",
      "3  white            7.2              0.23         0.32             8.5   \n",
      "4  white            7.2              0.23         0.32             8.5   \n",
      "\n",
      "   chlorides  free sulfur dioxide  total sulfur dioxide  density    pH  \\\n",
      "0      0.045                 45.0                 170.0   1.0010  3.00   \n",
      "1      0.049                 14.0                 132.0   0.9940  3.30   \n",
      "2      0.050                 30.0                  97.0   0.9951  3.26   \n",
      "3      0.058                 47.0                 186.0   0.9956  3.19   \n",
      "4      0.058                 47.0                 186.0   0.9956  3.19   \n",
      "\n",
      "   sulphates  alcohol  quality  \n",
      "0       0.45      8.8        6  \n",
      "1       0.49      9.5        6  \n",
      "2       0.44     10.1        6  \n",
      "3       0.40      9.9        6  \n",
      "4       0.40      9.9        6  \n"
     ]
    }
   ],
   "source": [
    "#Load dataset and explore\n",
    "winedata = pd.read_csv(\"winequalityN.csv\")\n",
    "print(winedata.head())"
   ]
  },
  {
   "cell_type": "code",
   "execution_count": null,
   "metadata": {},
   "outputs": [
    {
     "name": "stdout",
     "output_type": "stream",
     "text": [
      "(6497, 13)\n",
      "<class 'pandas.core.frame.DataFrame'>\n",
      "RangeIndex: 6497 entries, 0 to 6496\n",
      "Data columns (total 13 columns):\n",
      " #   Column                Non-Null Count  Dtype  \n",
      "---  ------                --------------  -----  \n",
      " 0   type                  6497 non-null   object \n",
      " 1   fixed acidity         6487 non-null   float64\n",
      " 2   volatile acidity      6489 non-null   float64\n",
      " 3   citric acid           6494 non-null   float64\n",
      " 4   residual sugar        6495 non-null   float64\n",
      " 5   chlorides             6495 non-null   float64\n",
      " 6   free sulfur dioxide   6497 non-null   float64\n",
      " 7   total sulfur dioxide  6497 non-null   float64\n",
      " 8   density               6497 non-null   float64\n",
      " 9   pH                    6488 non-null   float64\n",
      " 10  sulphates             6493 non-null   float64\n",
      " 11  alcohol               6497 non-null   float64\n",
      " 12  quality               6497 non-null   int64  \n",
      "dtypes: float64(11), int64(1), object(1)\n",
      "memory usage: 660.0+ KB\n",
      "None\n",
      "       fixed acidity  volatile acidity  citric acid  residual sugar  \\\n",
      "count    6487.000000       6489.000000  6494.000000     6495.000000   \n",
      "mean        7.216579          0.339691     0.318722        5.444326   \n",
      "std         1.296750          0.164649     0.145265        4.758125   \n",
      "min         3.800000          0.080000     0.000000        0.600000   \n",
      "25%         6.400000          0.230000     0.250000        1.800000   \n",
      "50%         7.000000          0.290000     0.310000        3.000000   \n",
      "75%         7.700000          0.400000     0.390000        8.100000   \n",
      "max        15.900000          1.580000     1.660000       65.800000   \n",
      "\n",
      "         chlorides  free sulfur dioxide  total sulfur dioxide      density  \\\n",
      "count  6495.000000          6497.000000           6497.000000  6497.000000   \n",
      "mean      0.056042            30.525319            115.744574     0.994697   \n",
      "std       0.035036            17.749400             56.521855     0.002999   \n",
      "min       0.009000             1.000000              6.000000     0.987110   \n",
      "25%       0.038000            17.000000             77.000000     0.992340   \n",
      "50%       0.047000            29.000000            118.000000     0.994890   \n",
      "75%       0.065000            41.000000            156.000000     0.996990   \n",
      "max       0.611000           289.000000            440.000000     1.038980   \n",
      "\n",
      "                pH    sulphates      alcohol      quality  \n",
      "count  6488.000000  6493.000000  6497.000000  6497.000000  \n",
      "mean      3.218395     0.531215    10.491801     5.818378  \n",
      "std       0.160748     0.148814     1.192712     0.873255  \n",
      "min       2.720000     0.220000     8.000000     3.000000  \n",
      "25%       3.110000     0.430000     9.500000     5.000000  \n",
      "50%       3.210000     0.510000    10.300000     6.000000  \n",
      "75%       3.320000     0.600000    11.300000     6.000000  \n",
      "max       4.010000     2.000000    14.900000     9.000000  \n"
     ]
    }
   ],
   "source": [
    "print(winedata.shape)\n",
    "\n",
    "print(winedata.info())\n",
    "\n",
    "print(winedata.describe())"
   ]
  },
  {
   "cell_type": "code",
   "execution_count": 6,
   "metadata": {},
   "outputs": [
    {
     "name": "stdout",
     "output_type": "stream",
     "text": [
      "type                     0\n",
      "fixed acidity           10\n",
      "volatile acidity         8\n",
      "citric acid              3\n",
      "residual sugar           2\n",
      "chlorides                2\n",
      "free sulfur dioxide      0\n",
      "total sulfur dioxide     0\n",
      "density                  0\n",
      "pH                       9\n",
      "sulphates                4\n",
      "alcohol                  0\n",
      "quality                  0\n",
      "dtype: int64\n",
      "1168\n"
     ]
    }
   ],
   "source": [
    "# Valores faltantes por columna\n",
    "print(winedata.isnull().sum())\n",
    "\n",
    "# Filas duplicadas\n",
    "print(winedata.duplicated().sum())\n"
   ]
  },
  {
   "cell_type": "code",
   "execution_count": 12,
   "metadata": {},
   "outputs": [
    {
     "data": {
      "text/plain": [
       "count    6497.000000\n",
       "mean        5.818378\n",
       "std         0.873255\n",
       "min         3.000000\n",
       "25%         5.000000\n",
       "50%         6.000000\n",
       "75%         6.000000\n",
       "max         9.000000\n",
       "Name: quality, dtype: float64"
      ]
     },
     "execution_count": 12,
     "metadata": {},
     "output_type": "execute_result"
    }
   ],
   "source": [
    "winedata['quality'].describe()"
   ]
  },
  {
   "cell_type": "code",
   "execution_count": null,
   "metadata": {},
   "outputs": [],
   "source": []
  }
 ],
 "metadata": {
  "kernelspec": {
   "display_name": "Python 3",
   "language": "python",
   "name": "python3"
  },
  "language_info": {
   "codemirror_mode": {
    "name": "ipython",
    "version": 3
   },
   "file_extension": ".py",
   "mimetype": "text/x-python",
   "name": "python",
   "nbconvert_exporter": "python",
   "pygments_lexer": "ipython3",
   "version": "3.10.11"
  }
 },
 "nbformat": 4,
 "nbformat_minor": 2
}
